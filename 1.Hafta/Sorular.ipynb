{
 "cells": [
  {
   "cell_type": "markdown",
   "id": "c1f5e81f-8d80-4f90-8165-5e8f88ee32b2",
   "metadata": {},
   "source": [
    "## Sorular\n",
    "1. Kullanıcıdan bir sayı alıp, bu sayının karesini ekrana yazdıran bir program yazın."
   ]
  },
  {
   "cell_type": "code",
   "execution_count": null,
   "id": "6aed59c3-d473-4bb0-975f-75ca5dc6a9d2",
   "metadata": {},
   "outputs": [],
   "source": []
  },
  {
   "cell_type": "markdown",
   "id": "8a59e285-3c86-4b07-8c8c-134f050e8655",
   "metadata": {},
   "source": [
    "2. Verilen bir listedeki tüm elemanları toplayan bir fonksiyon yazın."
   ]
  },
  {
   "cell_type": "code",
   "execution_count": null,
   "id": "f2887f0a-455a-4d06-8fa0-e507d16d5b36",
   "metadata": {},
   "outputs": [],
   "source": []
  },
  {
   "cell_type": "markdown",
   "id": "5c2834a2-3fab-4dca-a1bd-4b57163f1b09",
   "metadata": {},
   "source": [
    "3. Bir metin içindeki tüm harfleri büyük harfe dönüştüren bir fonksiyon yazın."
   ]
  },
  {
   "cell_type": "code",
   "execution_count": null,
   "id": "7f05d7f1-d675-4268-941b-3456155d21e0",
   "metadata": {},
   "outputs": [],
   "source": []
  },
  {
   "cell_type": "markdown",
   "id": "ff22811f-dc4e-4dd8-9947-4a08bf7a3e8a",
   "metadata": {},
   "source": [
    "4. Verilen bir string'in tersini alarak yazdıran bir program yazın."
   ]
  },
  {
   "cell_type": "code",
   "execution_count": null,
   "id": "6ef8611c-c593-4bcc-8a52-c497f605e21c",
   "metadata": {},
   "outputs": [],
   "source": []
  },
  {
   "cell_type": "markdown",
   "id": "15f3e26e-7ed5-4607-b543-fac089128813",
   "metadata": {},
   "source": [
    "5. Kullanıcıdan bir metin alıp, bu metindeki kelime sayısını ekrana yazdıran bir program yazın."
   ]
  },
  {
   "cell_type": "code",
   "execution_count": null,
   "id": "9d71c69a-9a9b-4648-b171-dc468ade711e",
   "metadata": {},
   "outputs": [],
   "source": []
  },
  {
   "cell_type": "markdown",
   "id": "d88e8476-e608-4903-8cbf-0675ed2a0058",
   "metadata": {},
   "source": [
    "6. Verilen bir listedeki en büyük ve en küçük sayıları bulan bir program yazın."
   ]
  },
  {
   "cell_type": "code",
   "execution_count": null,
   "id": "1f082707-a3ed-4308-b1a2-336a1446fadb",
   "metadata": {},
   "outputs": [],
   "source": []
  },
  {
   "cell_type": "code",
   "execution_count": 10,
   "id": "7b4314e6-41e7-41e7-a9e1-057ba806c677",
   "metadata": {},
   "outputs": [
    {
     "ename": "SyntaxError",
     "evalue": "invalid syntax (3314252101.py, line 1)",
     "output_type": "error",
     "traceback": [
      "\u001b[0;36m  Cell \u001b[0;32mIn[10], line 1\u001b[0;36m\u001b[0m\n\u001b[0;31m    7. Bir sayının faktöriyelini hesaplayan bir fonksiyon yazın.\u001b[0m\n\u001b[0m       ^\u001b[0m\n\u001b[0;31mSyntaxError\u001b[0m\u001b[0;31m:\u001b[0m invalid syntax\n"
     ]
    }
   ],
   "source": [
    "7. Bir sayının faktöriyelini hesaplayan bir fonksiyon yazın."
   ]
  },
  {
   "cell_type": "code",
   "execution_count": null,
   "id": "09d6854c-31cb-41cd-a31e-a299b181c2eb",
   "metadata": {},
   "outputs": [],
   "source": []
  },
  {
   "cell_type": "markdown",
   "id": "a5ef0de5-4602-4fd0-8f9b-e45f5bf4c176",
   "metadata": {},
   "source": [
    "8. Verilen bir string'deki sesli harfleri sayan bir program yazın."
   ]
  },
  {
   "cell_type": "code",
   "execution_count": null,
   "id": "58fe479e-cc1d-43ee-9c69-49bc62133fac",
   "metadata": {},
   "outputs": [],
   "source": []
  },
  {
   "cell_type": "markdown",
   "id": "22695a8a-8fb7-4ba1-8a82-8152f402de13",
   "metadata": {},
   "source": [
    "9. Kullanıcıdan bir string ve bir karakter alıp, bu karakterin string içinde kaç kez geçtiğini ekrana yazdıran bir program yazın."
   ]
  },
  {
   "cell_type": "code",
   "execution_count": null,
   "id": "dbf0f086-1b99-4c52-879f-abdab439ffa0",
   "metadata": {},
   "outputs": [],
   "source": []
  },
  {
   "cell_type": "markdown",
   "id": "7c0eec63-d361-4543-bded-a7ffc09cda0b",
   "metadata": {},
   "source": [
    "10. Verilen bir listedeki çift sayıları ayıklayan bir program yazın."
   ]
  },
  {
   "cell_type": "code",
   "execution_count": null,
   "id": "261c3dc1-4860-4bc5-a453-868e7e51f823",
   "metadata": {},
   "outputs": [],
   "source": []
  },
  {
   "cell_type": "markdown",
   "id": "74ab5c74-4509-4e09-b1f7-c335ee11ad08",
   "metadata": {},
   "source": [
    "11. Bir sayının asal olup olmadığını kontrol eden bir fonksiyon yazın."
   ]
  },
  {
   "cell_type": "code",
   "execution_count": null,
   "id": "a9abc21d-365f-4e2a-819c-0196d21d9e84",
   "metadata": {},
   "outputs": [],
   "source": []
  },
  {
   "cell_type": "markdown",
   "id": "3edfd274-e2c9-4d23-892e-bea91d0563d3",
   "metadata": {},
   "source": [
    "12. Verilen iki sayının toplamını, farkını, çarpımını ve bölümünü ekrana yazdıran bir program yazın."
   ]
  },
  {
   "cell_type": "code",
   "execution_count": null,
   "id": "23bcc6b9-73ba-49cd-b373-a7cbb8061ba1",
   "metadata": {},
   "outputs": [],
   "source": []
  },
  {
   "cell_type": "markdown",
   "id": "32ccb58e-20b9-4730-90ae-17978a6ef8ec",
   "metadata": {},
   "source": [
    "13. Bir string'in palindrom olup olmadığını kontrol eden bir program yazın."
   ]
  },
  {
   "cell_type": "code",
   "execution_count": null,
   "id": "95ae683a-76eb-4bb8-bcd6-d525a8eb20df",
   "metadata": {},
   "outputs": [],
   "source": []
  },
  {
   "cell_type": "markdown",
   "id": "5f371775-49a2-4978-b444-94b49227eccf",
   "metadata": {},
   "source": [
    "14. Kullanıcıdan alınan notun harf karşılığını ekrana yazdıran bir program yazın."
   ]
  },
  {
   "cell_type": "code",
   "execution_count": null,
   "id": "98a908f9-b4e9-4b29-8e1b-02fcbec53b8e",
   "metadata": {},
   "outputs": [],
   "source": []
  },
  {
   "cell_type": "markdown",
   "id": "4d7f3ea6-db15-4a3f-b8f1-e3a25bc25e0f",
   "metadata": {},
   "source": [
    "15. Verilen bir cümlenin içinde geçen kelimeleri alfabetik olarak sıralayan bir program yazın."
   ]
  },
  {
   "cell_type": "code",
   "execution_count": null,
   "id": "c5f11b51-af60-4e2d-9ebf-d6134d6a8395",
   "metadata": {},
   "outputs": [],
   "source": []
  },
  {
   "cell_type": "markdown",
   "id": "c05964f1-a873-4fea-86f7-9ed36424a357",
   "metadata": {},
   "source": [
    "16. İki farklı listedeki ortak elemanları bulan bir program yazın."
   ]
  },
  {
   "cell_type": "code",
   "execution_count": null,
   "id": "4692a806-14ec-48cd-b12c-812a9bfebab0",
   "metadata": {},
   "outputs": [],
   "source": []
  },
  {
   "cell_type": "markdown",
   "id": "1fdeca03-145d-4b09-bd65-2a00e9490e11",
   "metadata": {},
   "source": [
    "17. Verilen bir string'deki boşlukları kaldıran bir program yazın"
   ]
  },
  {
   "cell_type": "code",
   "execution_count": null,
   "id": "89ffc5cb-debb-4ed5-8055-0bb6029b5e46",
   "metadata": {},
   "outputs": [],
   "source": []
  },
  {
   "cell_type": "markdown",
   "id": "632f0683-1a97-4723-91eb-5b2b146e94af",
   "metadata": {},
   "source": [
    "18. Kullanıcıdan alınan bir sayının pozitif, negatif ya da sıfır olduğunu kontrol eden bir program yazın."
   ]
  },
  {
   "cell_type": "code",
   "execution_count": null,
   "id": "87b74bb5-3b65-457f-a0cd-04edd05c1c64",
   "metadata": {},
   "outputs": [],
   "source": []
  },
  {
   "cell_type": "markdown",
   "id": "48cfb04d-edfc-4842-8140-626c144d432e",
   "metadata": {},
   "source": [
    "19. Bir string'in içinde geçen tüm rakamları toplayan bir fonksiyon yazın."
   ]
  },
  {
   "cell_type": "code",
   "execution_count": null,
   "id": "203b45cf-5be0-4dea-937e-2209383d81f2",
   "metadata": {},
   "outputs": [],
   "source": []
  },
  {
   "cell_type": "markdown",
   "id": "5f770db4-2245-4b65-b3b1-e4aa463277f3",
   "metadata": {},
   "source": [
    "20. Kullanıcıya iki sayı girmesini isteyip, bu sayıların karesi farkını ekrana yazdıran bir program yazın."
   ]
  },
  {
   "cell_type": "code",
   "execution_count": null,
   "id": "18b55583-1af0-40f7-8e75-9280d3c6d361",
   "metadata": {},
   "outputs": [],
   "source": []
  }
 ],
 "metadata": {
  "kernelspec": {
   "display_name": "Python 3 (ipykernel)",
   "language": "python",
   "name": "python3"
  },
  "language_info": {
   "codemirror_mode": {
    "name": "ipython",
    "version": 3
   },
   "file_extension": ".py",
   "mimetype": "text/x-python",
   "name": "python",
   "nbconvert_exporter": "python",
   "pygments_lexer": "ipython3",
   "version": "3.11.8"
  }
 },
 "nbformat": 4,
 "nbformat_minor": 5
}
