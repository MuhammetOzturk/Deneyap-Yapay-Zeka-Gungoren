{
 "cells": [
  {
   "cell_type": "markdown",
   "id": "8bc260a6-f64f-416d-9758-55fd039ecb72",
   "metadata": {},
   "source": [
    "\n",
    "## K-Ortalama Algoritmasi\n",
    "\n",
    "[![kortalama](assets/kortlama.png)](https://www.youtube.com/watch?v=DgF6tVxfOwk&t=314s)  \n",
    "\n",
    "---\n",
    "\n",
    "K-Ortalama algoritmasının çalışma prensibi şu adımlarla gerçekleşir:\n",
    "\n",
    "1. **K Küme Merkezi Seçimi:**\n",
    "   İlk olarak, K değeri belirlenir ve bu değere göre rastgele K adet küme merkezi seçilir. Bu merkezler, veri noktalarının uzayında rastgele yerleştirilir.\n",
    "\n",
    "2. **Kümeleme Döngüsü:**\n",
    "   Algoritma, kümeleme işlemini belirli bir kriter sağlanana kadar tekrarlar. Bu kriter genellikle küme merkezlerinin değişmemesi veya değişimlerin belirli bir eşik değerinin altında olmasıdır. Her bir döngüde şu adımlar gerçekleşir:\n",
    "   \n",
    "   - Her veri noktası için, ona en yakın olan küme merkezini belirleme.\n",
    "   - Veri noktalarını bu merkezlere göre kümelere atama.\n",
    "\n",
    "3. **Yeni Küme Merkezleri Belirleme:**\n",
    "   Her küme içindeki veri noktalarının ortalaması alınarak yeni küme merkezleri belirlenir. Bu, küme merkezlerinin güncellenmesi adımıdır.\n",
    "\n",
    "4. **Kriter Sağlanıncaya Kadar Tekrarlama:**\n",
    "   Küme merkezlerindeki değişim belirli bir eşik değerinin altına düşene veya belirlenen bir iterasyon sayısına ulaşılana kadar bu adımlar tekrarlanır.\n",
    "\n",
    "5. **Sonuç:**\n",
    "   Algoritma, küme merkezleri artık değişmiyorsa veya belirlenen kriter sağlandığında sonlanır. Her veri noktası, kendisine en yakın olan küme merkezine atanmış olur ve böylece veri kümelemesi tamamlanır.\n",
    "\n",
    "K-Ortalama algoritması, kümeleme problemlerinde kullanılır ve veri setlerini gruplara ayırmak için etkili bir araçtır. Ancak, algoritmanın başlangıçta rastgele seçilen merkezlerden başlayarak çalışması ve bu nedenle farklı başlangıç noktalarından farklı sonuçlar üretebilmesi önemli bir dezavantajıdır. Bu nedenle, algoritmanın sonuçlarının istikrarlı olması için genellikle birden fazla başlangıç noktasıyla çalışılır ve en iyi sonuçlar seçilir.\n",
    "\n",
    "```python\n",
    "import pandas as pd\n",
    "import matplotlib.pyplot as plt\n",
    "from sklearn.datasets import load_iris\n",
    "from sklearn.cluster import KMeans\n",
    "\n",
    "# Iris veri setini yükleme\n",
    "iris = load_iris()\n",
    "data = iris.data\n",
    "target = iris.target\n",
    "# K-Means modeli oluşturma\n",
    "kmeans = KMeans(n_clusters=3, random_state=42)\n",
    "clusters = kmeans.fit_predict(data)\n",
    "plt.figure(figsize=(15,5))\n",
    "plt.subplot(1,2,1)\n",
    "\n",
    "plt.scatter(data[:, 0], data[:, 1], c=clusters, cmap='viridis')\n",
    "\n",
    "centers = kmeans.cluster_centers_\n",
    "plt.scatter(centers[:, 0], centers[:, 1], marker='x', c='red', s=200)\n",
    "plt.title(\"Sepal\")\n",
    "\n",
    "plt.subplot(1,2,2)\n",
    "plt.scatter(data[:, 2], data[:, 3], c=clusters, cmap='viridis')\n",
    "plt.scatter(centers[:, 2], centers[:, 3], marker='*', c='orange', s=200)\n",
    "plt.title(\"Petal\")\n",
    "\n",
    "plt.show()\n",
    "```"
   ]
  },
  {
   "cell_type": "code",
   "execution_count": null,
   "id": "ac9a6471-d891-4b26-baff-bd0384599749",
   "metadata": {},
   "outputs": [],
   "source": []
  }
 ],
 "metadata": {
  "kernelspec": {
   "display_name": "Python 3 (ipykernel)",
   "language": "python",
   "name": "python3"
  },
  "language_info": {
   "codemirror_mode": {
    "name": "ipython",
    "version": 3
   },
   "file_extension": ".py",
   "mimetype": "text/x-python",
   "name": "python",
   "nbconvert_exporter": "python",
   "pygments_lexer": "ipython3",
   "version": "3.11.8"
  }
 },
 "nbformat": 4,
 "nbformat_minor": 5
}
